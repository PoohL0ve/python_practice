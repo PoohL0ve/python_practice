{
 "cells": [
  {
   "cell_type": "markdown",
   "metadata": {},
   "source": [
    "# Regular Expressions in Python\n",
    "Regex are a way to search a string using patterns. To use them the *re* module needs to be imported as it provides several methods for pattern matching including:\n",
    "- **re.findall(pattern, str)**: returns a list containing all matches\n",
    "- **re.finditer(pattern, str)**: returns an iterator with matching objects\n",
    "- **re.search(pattern, str), re.match(pattern, str)**: returns a match object, where re.serch() only finds the first occurence.\n",
    "- **re.split()**: returns a list where each matched object has been split\n",
    "- **re.sub(pattern, replacement, str, count=0)**: replaces the matched patterns with the new string."
   ]
  },
  {
   "cell_type": "code",
   "execution_count": 1,
   "metadata": {},
   "outputs": [],
   "source": [
    "import re"
   ]
  },
  {
   "cell_type": "markdown",
   "metadata": {},
   "source": [
    "## Patterns\n",
    "A pattern represents a set of strings, which can be infinite. The backslash character can alter the meaning of letters and numbers in regex. Common regular expression notation includes:\n",
    "|Symbol | Meaning                  | Example         |\n",
    "|:-----:|:-------------------------|:---------------:|\n",
    "|`^`| Matches the start of the string| re.findall(^P, string)|\n",
    "|`[]`| Any character inside the bracket would match| re.match(r'[Pp]erfume', string), P or p will macth|\n",
    "|`[^...]`| Any character before the carat would match| re.match(r'[^ast]', string)|\n",
    "|`.`| Matches any character except newlines | re.findall('he..o', string)|\n",
    "|`$`| Matches the end of the string| re.findall('planet$', string)|\n",
    "|`*`| Matches zero or more previous occurences| re.findall(r'he*a', string)|\n",
    "|`+`| Matches one or more occurence| re.match('h+art', string)|\n",
    "|`?`|Matches zero or more occurences of the previous RE|re.findall('?P', string)|\n",
    "|`{m,n}`| Exact amount of occurences, m to n| re.findall('he.{2}0', string), 2 of the same characters after e|\n",
    "|`\\`| Special sequence| re.findall('\\d', string), finds any digit [0-9]|\n",
    "|`\\|`| Either or | re.match(r'he' | 'sa', string)|\n",
    "|`()`| Used to group sub-patterns| re.findall((^P | [1-2]), string)|\n",
    "|`\\d`| Same as [0-9], matches any digit| re.findall('\\d', string)|\n",
    "|`\\D`| Matches anything besides a digit| re.findall('\\D', string)|\n",
    "|`\\s`| Matches a whitespce character| re.match('\\s', string)|\n",
    "|`\\S`| Matches a nonwhitespace character| re.match('\\S', string)|\n",
    "|`\\w`| Same as [a-zA-Z0-9_], matches one alphanumeric character| re.match('\\w', string)|\n",
    "|`\\W`| Matches non-alphanumeric characters| re.match('\\W', string)|"
   ]
  },
  {
   "cell_type": "markdown",
   "metadata": {},
   "source": [
    "The patterns *\\A and \\Z* are similar to *^ and $* repsectively except they do not match on a newline. Additionally, *\\b* can match at the start or end of a word, while *\\B* does the opposite. All these characters match in specific places of the string."
   ]
  },
  {
   "cell_type": "code",
   "execution_count": 3,
   "metadata": {},
   "outputs": [
    {
     "name": "stdout",
     "output_type": "stream",
     "text": [
      "Find all the integers in the string: \n"
     ]
    },
    {
     "data": {
      "text/plain": [
       "['38', '32', '70']"
      ]
     },
     "execution_count": 3,
     "metadata": {},
     "output_type": "execute_result"
    }
   ],
   "source": [
    "s = \"Doing things, going home, staying awake, sleeping later\"\n",
    "re.findall(r'\\w+ing\\b', s)\n",
    "\n",
    "find_int = '38 + 32 = 70'\n",
    "print('Find all the integers in the string: ')\n",
    "re.findall(r'[+-]?\\d+', find_int)"
   ]
  }
 ],
 "metadata": {
  "kernelspec": {
   "display_name": "myvenv",
   "language": "python",
   "name": "python3"
  },
  "language_info": {
   "codemirror_mode": {
    "name": "ipython",
    "version": 3
   },
   "file_extension": ".py",
   "mimetype": "text/x-python",
   "name": "python",
   "nbconvert_exporter": "python",
   "pygments_lexer": "ipython3",
   "version": "3.13.1"
  }
 },
 "nbformat": 4,
 "nbformat_minor": 2
}
