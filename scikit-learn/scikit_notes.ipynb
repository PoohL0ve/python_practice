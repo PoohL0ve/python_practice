{
 "cells": [
  {
   "cell_type": "markdown",
   "metadata": {},
   "source": [
    "# Understanding scikit-learn\n",
    "It is built on top of Numpy, Scipy, and Matplotlib, and used for *predictive data analysis*.\n",
    "To use a module or package: *from sklearn.module import functionality*. To update the library:\n",
    "- pip install --user --upgrade scikit-learn\n",
    "\n",
    "The library is packed useful with machine learning algorithms."
   ]
  },
  {
   "cell_type": "markdown",
   "metadata": {},
   "source": [
    "## Training a Model\n",
    "The process of setting and training a model follows:\n",
    "- import the model class and create an instance, optional: adjust the parameters\n",
    "- Load the dataset and fit the model to it\n",
    "- Use the model to predict values\n",
    "\n",
    "For simplicity, the DummyRegressor module will be used, which predicts the mean, median, and quartile of values."
   ]
  },
  {
   "cell_type": "code",
   "execution_count": null,
   "metadata": {},
   "outputs": [
    {
     "name": "stdout",
     "output_type": "stream",
     "text": [
      "[1.797 1.797 1.797 ... 1.797 1.797 1.797]\n"
     ]
    }
   ],
   "source": [
    "from sklearn.dummy import DummyRegressor \n",
    "from sklearn import datasets\n",
    "\n",
    "dummy_regr = DummyRegressor(strategy='median')\n",
    "\n",
    "# If the dataset is already loaded, don't \n",
    "X, y = datasets.fetch_california_housing(return_X_y=True)\n",
    "dummy_regr.fit(X, y)  # trains the model\n",
    "\n",
    "# Use predict method to predict the target values\n",
    "print(dummy_regr.predict(X))"
   ]
  }
 ],
 "metadata": {
  "kernelspec": {
   "display_name": "myvenv",
   "language": "python",
   "name": "python3"
  },
  "language_info": {
   "codemirror_mode": {
    "name": "ipython",
    "version": 3
   },
   "file_extension": ".py",
   "mimetype": "text/x-python",
   "name": "python",
   "nbconvert_exporter": "python",
   "pygments_lexer": "ipython3",
   "version": "3.13.1"
  }
 },
 "nbformat": 4,
 "nbformat_minor": 2
}
