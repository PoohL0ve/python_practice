{
 "cells": [
  {
   "cell_type": "markdown",
   "id": "92c4b5e2",
   "metadata": {},
   "source": [
    "# Data Wrangling\n",
    "Data wrangling is the process of converting raw data into a format that is easier to perform analytics. To illustrate this process, the [Automobile Dataset](https://archive.ics.uci.edu/ml/machine-learning-databases/autos/imports-85.data) would be used."
   ]
  },
  {
   "cell_type": "code",
   "execution_count": 29,
   "id": "e544db8b",
   "metadata": {},
   "outputs": [],
   "source": [
    "import pandas as pd \n",
    "import requests\n",
    "from io import StringIO\n",
    "import os\n"
   ]
  },
  {
   "cell_type": "markdown",
   "id": "0f0f75d6",
   "metadata": {},
   "source": [
    "## Download and Store Data\n",
    "The data is text on a web page, therefore, before doing any cleaning, we need to download it and store it in a csv file."
   ]
  },
  {
   "cell_type": "code",
   "execution_count": 30,
   "id": "a7151332",
   "metadata": {},
   "outputs": [
    {
     "name": "stdout",
     "output_type": "stream",
     "text": [
      "Data successfully saved to: ../data/autocsv.csv\n",
      "../data/autocsv.csv\n"
     ]
    }
   ],
   "source": [
    "def download_and_store(url, directory_path):\n",
    "    headers = [\n",
    "        \"symboling\", \"normalized-losses\", \"make\", \"fuel-type\", \"aspiration\",\n",
    "        \"num-of-doors\", \"body-style\", \"drive-wheels\", \"engine-location\",\n",
    "        \"wheel-base\", \"length\", \"width\", \"height\", \"curb-weight\",\n",
    "        \"engine-type\", \"num-of-cylinders\", \"engine-size\", \"fuel-system\",\n",
    "        \"bore\", \"stroke\", \"compression-ratio\", \"horsepower\", \"peak-rpm\",\n",
    "        \"city-mpg\", \"highway-mpg\", \"price\"\n",
    "    ]\n",
    "    \n",
    "    file_name = 'autocsv.csv'\n",
    "    full_file_path = os.path.join(directory_path, file_name)\n",
    "\n",
    "    try:\n",
    "        # Step 1: Download the data\n",
    "        response = requests.get(url)\n",
    "        response.raise_for_status()\n",
    "        data = response.text\n",
    "        \n",
    "        # Step 2: Read the data into a pandas DataFrame\n",
    "        df = pd.read_csv(StringIO(data), header=None, names=headers, na_values=\"?\")\n",
    "        \n",
    "        # Step 3: Ensure the directory exists\n",
    "        os.makedirs(directory_path, exist_ok=True)\n",
    "        \n",
    "        # Step 4: Save the DataFrame to a CSV file\n",
    "        df.to_csv(full_file_path, index=False)\n",
    "        \n",
    "        print(f\"Data successfully saved to: {full_file_path}\")\n",
    "        return full_file_path\n",
    "\n",
    "    except requests.exceptions.RequestException as e:\n",
    "        print(f'An error occurred while downloading the data: {e}')\n",
    "        return None\n",
    "    except Exception as e:\n",
    "        print(f'An unexpected error occurred: {e}')\n",
    "        return None\n",
    "\n",
    "\n",
    "# Call the function to create the file\n",
    "url = \"https://archive.ics.uci.edu/ml/machine-learning-databases/autos/imports-85.data\"\n",
    "output_path = '../data'\n",
    "saved_path = download_and_store(url, output_path)\n",
    "print(saved_path)"
   ]
  },
  {
   "cell_type": "markdown",
   "id": "a5ed113b",
   "metadata": {},
   "source": [
    "## Identify and Handle Missing Values\n",
    "Use `Numpy` to help in this step. Additionally, read the data into the notebook."
   ]
  },
  {
   "cell_type": "code",
   "execution_count": 31,
   "id": "54987d1f",
   "metadata": {},
   "outputs": [],
   "source": [
    "import numpy as np\n",
    "\n",
    "auto_df = pd.read_csv(saved_path)\n",
    "# Replace ? with NaN\n",
    "auto_df.replace('?', np.nan, inplace=True)"
   ]
  },
  {
   "cell_type": "markdown",
   "id": "4183d143",
   "metadata": {},
   "source": [
    "### Searching for Missing Values\n",
    "The methods Boolean methods `isnull` and `not_null` shows whether there are missing values or not."
   ]
  },
  {
   "cell_type": "code",
   "execution_count": 32,
   "id": "e62e8a28",
   "metadata": {},
   "outputs": [
    {
     "name": "stdout",
     "output_type": "stream",
     "text": [
      "   symboling  normalized-losses   make  fuel-type  aspiration  num-of-doors  \\\n",
      "0      False               True  False      False       False         False   \n",
      "1      False               True  False      False       False         False   \n",
      "2      False               True  False      False       False         False   \n",
      "\n",
      "   body-style  drive-wheels  engine-location  wheel-base  ...  engine-size  \\\n",
      "0       False         False            False       False  ...        False   \n",
      "1       False         False            False       False  ...        False   \n",
      "2       False         False            False       False  ...        False   \n",
      "\n",
      "   fuel-system   bore  stroke  compression-ratio  horsepower  peak-rpm  \\\n",
      "0        False  False   False              False       False     False   \n",
      "1        False  False   False              False       False     False   \n",
      "2        False  False   False              False       False     False   \n",
      "\n",
      "   city-mpg  highway-mpg  price  \n",
      "0     False        False  False  \n",
      "1     False        False  False  \n",
      "2     False        False  False  \n",
      "\n",
      "[3 rows x 26 columns]\n"
     ]
    }
   ],
   "source": [
    "missing_data = auto_df.isnull()\n",
    "print(missing_data.head(3))"
   ]
  },
  {
   "cell_type": "code",
   "execution_count": 33,
   "id": "e50d27cc",
   "metadata": {},
   "outputs": [
    {
     "name": "stdout",
     "output_type": "stream",
     "text": [
      "symboling\n",
      "symboling\n",
      "False    205\n",
      "Name: count, dtype: int64\n",
      "\n",
      "normalized-losses\n",
      "normalized-losses\n",
      "False    164\n",
      "True      41\n",
      "Name: count, dtype: int64\n",
      "\n",
      "make\n",
      "make\n",
      "False    205\n",
      "Name: count, dtype: int64\n",
      "\n",
      "fuel-type\n",
      "fuel-type\n",
      "False    205\n",
      "Name: count, dtype: int64\n",
      "\n",
      "aspiration\n",
      "aspiration\n",
      "False    205\n",
      "Name: count, dtype: int64\n",
      "\n",
      "num-of-doors\n",
      "num-of-doors\n",
      "False    203\n",
      "True       2\n",
      "Name: count, dtype: int64\n",
      "\n",
      "body-style\n",
      "body-style\n",
      "False    205\n",
      "Name: count, dtype: int64\n",
      "\n",
      "drive-wheels\n",
      "drive-wheels\n",
      "False    205\n",
      "Name: count, dtype: int64\n",
      "\n",
      "engine-location\n",
      "engine-location\n",
      "False    205\n",
      "Name: count, dtype: int64\n",
      "\n",
      "wheel-base\n",
      "wheel-base\n",
      "False    205\n",
      "Name: count, dtype: int64\n",
      "\n",
      "length\n",
      "length\n",
      "False    205\n",
      "Name: count, dtype: int64\n",
      "\n",
      "width\n",
      "width\n",
      "False    205\n",
      "Name: count, dtype: int64\n",
      "\n",
      "height\n",
      "height\n",
      "False    205\n",
      "Name: count, dtype: int64\n",
      "\n",
      "curb-weight\n",
      "curb-weight\n",
      "False    205\n",
      "Name: count, dtype: int64\n",
      "\n",
      "engine-type\n",
      "engine-type\n",
      "False    205\n",
      "Name: count, dtype: int64\n",
      "\n",
      "num-of-cylinders\n",
      "num-of-cylinders\n",
      "False    205\n",
      "Name: count, dtype: int64\n",
      "\n",
      "engine-size\n",
      "engine-size\n",
      "False    205\n",
      "Name: count, dtype: int64\n",
      "\n",
      "fuel-system\n",
      "fuel-system\n",
      "False    205\n",
      "Name: count, dtype: int64\n",
      "\n",
      "bore\n",
      "bore\n",
      "False    201\n",
      "True       4\n",
      "Name: count, dtype: int64\n",
      "\n",
      "stroke\n",
      "stroke\n",
      "False    201\n",
      "True       4\n",
      "Name: count, dtype: int64\n",
      "\n",
      "compression-ratio\n",
      "compression-ratio\n",
      "False    205\n",
      "Name: count, dtype: int64\n",
      "\n",
      "horsepower\n",
      "horsepower\n",
      "False    203\n",
      "True       2\n",
      "Name: count, dtype: int64\n",
      "\n",
      "peak-rpm\n",
      "peak-rpm\n",
      "False    203\n",
      "True       2\n",
      "Name: count, dtype: int64\n",
      "\n",
      "city-mpg\n",
      "city-mpg\n",
      "False    205\n",
      "Name: count, dtype: int64\n",
      "\n",
      "highway-mpg\n",
      "highway-mpg\n",
      "False    205\n",
      "Name: count, dtype: int64\n",
      "\n",
      "price\n",
      "price\n",
      "False    201\n",
      "True       4\n",
      "Name: count, dtype: int64\n",
      "\n"
     ]
    }
   ],
   "source": [
    "# Count the number of missing values in each column\n",
    "for column in missing_data.columns.values.tolist():\n",
    "    print(column)\n",
    "    print (missing_data[column].value_counts())\n",
    "    print(\"\") "
   ]
  },
  {
   "cell_type": "markdown",
   "id": "ca77d400",
   "metadata": {},
   "source": [
    "Based on the results of the data, some of the columns that contain missing data, can have the missing data replaced with the mean value and categorical data can be replaced with a mode data:\n",
    "Columns for mean replacement:\n",
    "- normalised_losses,\n",
    "- stroke,\n",
    "- bore, \n",
    "- horsepower,\n",
    "- peak_rpm\n",
    "\n",
    "The missing value for the num_of_doors column can be replaced with 'four', as its the mode value, while the price, delete the rows with missing data."
   ]
  },
  {
   "cell_type": "code",
   "execution_count": 34,
   "id": "ffed28d7",
   "metadata": {},
   "outputs": [
    {
     "name": "stdout",
     "output_type": "stream",
     "text": [
      "The average values in the columns: \n",
      "Normalised Losses: 122.0\n",
      "Stroke: 3.255422885572139\n",
      "Bore: 3.3297512437810943\n",
      "Horsepower: 104.25615763546799\n",
      "Peak Rpm: 5125.369458128079\n"
     ]
    }
   ],
   "source": [
    "# Average calculations\n",
    "normalized_losses_average = auto_df['normalized-losses'].astype('float').mean()\n",
    "stroke_avg = auto_df['stroke'].astype('float').mean()\n",
    "bore_avg = auto_df['bore'].astype('float').mean()\n",
    "horsepower_avg = auto_df['horsepower'].astype('float').mean()\n",
    "peakrpm_avg = auto_df['peak-rpm'].astype('float').mean()\n",
    "\n",
    "print(\"The average values in the columns: \")\n",
    "print(f'Normalised Losses: {normalized_losses_average}\\nStroke: {stroke_avg}\\nBore: {bore_avg}\\nHorsepower: {horsepower_avg}\\nPeak Rpm: {peakrpm_avg}')"
   ]
  },
  {
   "cell_type": "code",
   "execution_count": 35,
   "id": "4caf9449",
   "metadata": {},
   "outputs": [],
   "source": [
    "# Replace the NaN values with the averages\n",
    "auto_df['normalized-losses'] = auto_df['normalized-losses'].replace(np.nan, normalized_losses_average)\n",
    "auto_df['stroke'] = auto_df['stroke'].replace(np.nan, stroke_avg)\n",
    "auto_df['bore'] = auto_df['bore'].replace(np.nan, bore_avg)\n",
    "auto_df['horsepower'] = auto_df['horsepower'].replace(np.nan, horsepower_avg)\n",
    "auto_df['peak-rpm'] = auto_df['peak-rpm'].replace(np.nan, peakrpm_avg)"
   ]
  },
  {
   "cell_type": "code",
   "execution_count": 36,
   "id": "6665cbd7",
   "metadata": {},
   "outputs": [],
   "source": [
    "# Replace NaN in num_of_doors with four\n",
    "auto_df['num-of-doors'] = auto_df['num-of-doors'].replace(np.nan, 'four')\n",
    "\n",
    "# Drop all the rows with price colums that are NaN\n",
    "auto_df = auto_df.dropna(subset=['price'], axis=0)\n",
    "auto_df.reset_index(inplace=True)"
   ]
  },
  {
   "cell_type": "markdown",
   "id": "694221eb",
   "metadata": {},
   "source": [
    "### Ensure the Data are in the Correct format\n",
    "To check the data type of columns the `dtypes` method is used, while the `astype` meathod is used to change one column format to another."
   ]
  },
  {
   "cell_type": "code",
   "execution_count": 37,
   "id": "eb36ad0d",
   "metadata": {},
   "outputs": [
    {
     "data": {
      "text/plain": [
       "index                  int64\n",
       "symboling              int64\n",
       "normalized-losses    float64\n",
       "make                  object\n",
       "fuel-type             object\n",
       "aspiration            object\n",
       "num-of-doors          object\n",
       "body-style            object\n",
       "drive-wheels          object\n",
       "engine-location       object\n",
       "wheel-base           float64\n",
       "length               float64\n",
       "width                float64\n",
       "height               float64\n",
       "curb-weight            int64\n",
       "engine-type           object\n",
       "num-of-cylinders      object\n",
       "engine-size            int64\n",
       "fuel-system           object\n",
       "bore                 float64\n",
       "stroke               float64\n",
       "compression-ratio    float64\n",
       "horsepower           float64\n",
       "peak-rpm             float64\n",
       "city-mpg               int64\n",
       "highway-mpg            int64\n",
       "price                float64\n",
       "dtype: object"
      ]
     },
     "execution_count": 37,
     "metadata": {},
     "output_type": "execute_result"
    }
   ],
   "source": [
    "auto_df.dtypes"
   ]
  },
  {
   "cell_type": "markdown",
   "id": "8ee9be58",
   "metadata": {},
   "source": [
    "Standardisation is the process of transforming data into a single format that for everyone to understand. In the dataset, the miles can be converted to km."
   ]
  },
  {
   "cell_type": "code",
   "execution_count": 38,
   "id": "2009afbc",
   "metadata": {},
   "outputs": [
    {
     "data": {
      "text/html": [
       "<div>\n",
       "<style scoped>\n",
       "    .dataframe tbody tr th:only-of-type {\n",
       "        vertical-align: middle;\n",
       "    }\n",
       "\n",
       "    .dataframe tbody tr th {\n",
       "        vertical-align: top;\n",
       "    }\n",
       "\n",
       "    .dataframe thead th {\n",
       "        text-align: right;\n",
       "    }\n",
       "</style>\n",
       "<table border=\"1\" class=\"dataframe\">\n",
       "  <thead>\n",
       "    <tr style=\"text-align: right;\">\n",
       "      <th></th>\n",
       "      <th>index</th>\n",
       "      <th>symboling</th>\n",
       "      <th>normalized-losses</th>\n",
       "      <th>make</th>\n",
       "      <th>fuel-type</th>\n",
       "      <th>aspiration</th>\n",
       "      <th>num-of-doors</th>\n",
       "      <th>body-style</th>\n",
       "      <th>drive-wheels</th>\n",
       "      <th>engine-location</th>\n",
       "      <th>...</th>\n",
       "      <th>bore</th>\n",
       "      <th>stroke</th>\n",
       "      <th>compression-ratio</th>\n",
       "      <th>horsepower</th>\n",
       "      <th>peak-rpm</th>\n",
       "      <th>city-mpg</th>\n",
       "      <th>highway-mpg</th>\n",
       "      <th>price</th>\n",
       "      <th>city-L/100km</th>\n",
       "      <th>highway-L/100km</th>\n",
       "    </tr>\n",
       "  </thead>\n",
       "  <tbody>\n",
       "    <tr>\n",
       "      <th>0</th>\n",
       "      <td>0</td>\n",
       "      <td>3</td>\n",
       "      <td>122.0</td>\n",
       "      <td>alfa-romero</td>\n",
       "      <td>gas</td>\n",
       "      <td>std</td>\n",
       "      <td>two</td>\n",
       "      <td>convertible</td>\n",
       "      <td>rwd</td>\n",
       "      <td>front</td>\n",
       "      <td>...</td>\n",
       "      <td>3.47</td>\n",
       "      <td>2.68</td>\n",
       "      <td>9.0</td>\n",
       "      <td>111.0</td>\n",
       "      <td>5000.0</td>\n",
       "      <td>21</td>\n",
       "      <td>27</td>\n",
       "      <td>13495.0</td>\n",
       "      <td>11.190476</td>\n",
       "      <td>8.703704</td>\n",
       "    </tr>\n",
       "    <tr>\n",
       "      <th>1</th>\n",
       "      <td>1</td>\n",
       "      <td>3</td>\n",
       "      <td>122.0</td>\n",
       "      <td>alfa-romero</td>\n",
       "      <td>gas</td>\n",
       "      <td>std</td>\n",
       "      <td>two</td>\n",
       "      <td>convertible</td>\n",
       "      <td>rwd</td>\n",
       "      <td>front</td>\n",
       "      <td>...</td>\n",
       "      <td>3.47</td>\n",
       "      <td>2.68</td>\n",
       "      <td>9.0</td>\n",
       "      <td>111.0</td>\n",
       "      <td>5000.0</td>\n",
       "      <td>21</td>\n",
       "      <td>27</td>\n",
       "      <td>16500.0</td>\n",
       "      <td>11.190476</td>\n",
       "      <td>8.703704</td>\n",
       "    </tr>\n",
       "  </tbody>\n",
       "</table>\n",
       "<p>2 rows × 29 columns</p>\n",
       "</div>"
      ],
      "text/plain": [
       "   index  symboling  normalized-losses         make fuel-type aspiration  \\\n",
       "0      0          3              122.0  alfa-romero       gas        std   \n",
       "1      1          3              122.0  alfa-romero       gas        std   \n",
       "\n",
       "  num-of-doors   body-style drive-wheels engine-location  ...  bore  stroke  \\\n",
       "0          two  convertible          rwd           front  ...  3.47    2.68   \n",
       "1          two  convertible          rwd           front  ...  3.47    2.68   \n",
       "\n",
       "   compression-ratio  horsepower  peak-rpm city-mpg highway-mpg    price  \\\n",
       "0                9.0       111.0    5000.0       21          27  13495.0   \n",
       "1                9.0       111.0    5000.0       21          27  16500.0   \n",
       "\n",
       "  city-L/100km  highway-L/100km  \n",
       "0    11.190476         8.703704  \n",
       "1    11.190476         8.703704  \n",
       "\n",
       "[2 rows x 29 columns]"
      ]
     },
     "execution_count": 38,
     "metadata": {},
     "output_type": "execute_result"
    }
   ],
   "source": [
    "# Convert city-mpg and highway-mpg to km\n",
    "auto_df['city-L/100km'] = 235 / auto_df['city-mpg']\n",
    "auto_df['highway-L/100km'] = 235 / auto_df['highway-mpg']\n",
    "auto_df.head(2)"
   ]
  },
  {
   "cell_type": "markdown",
   "id": "f5a48018",
   "metadata": {},
   "source": [
    "### Data Normalisation\n",
    "It is the process of transforming data variables into a similar range. It can be achieved by:\n",
    "- scaling the variable so the variable average is 0\n",
    "- scaling the variable so the variance is 1\n",
    "- scaling the variable so the variable values range from 0 to 1\n",
    "\n",
    "The columns `width`, `length`, and `height1 can be scaled where the values are in a range from 0-1 by dividing the original value by the max value."
   ]
  },
  {
   "cell_type": "code",
   "execution_count": 39,
   "id": "d87c86ee",
   "metadata": {},
   "outputs": [
    {
     "name": "stdout",
     "output_type": "stream",
     "text": [
      "      width    height    length\n",
      "0  0.890278  0.816054  0.811148\n",
      "1  0.890278  0.816054  0.811148\n"
     ]
    }
   ],
   "source": [
    "auto_df['width'] = auto_df['width'] / auto_df['width'].max()\n",
    "auto_df['height'] = auto_df['height'] / auto_df['height'].max()\n",
    "auto_df['length'] = auto_df['length'] / auto_df['length'].max()\n",
    "\n",
    "print(auto_df[['width', 'height', 'length']].head(2))"
   ]
  },
  {
   "cell_type": "markdown",
   "id": "13c3752f",
   "metadata": {},
   "source": [
    "### Data Bining\n",
    "Binning is a process of transforming continuous numerical variables into discrete categorical 'bins' for grouped analysis.\n",
    "\n",
    "This can be demonstrated with the `horsepower` column by first converting it to int.\n",
    "\n",
    "Find 3 bins of equal size bandwidth by using Numpy's `linspace(start_value, end_value, numbers_generated function)`.\n"
   ]
  },
  {
   "cell_type": "code",
   "execution_count": 40,
   "id": "31116007",
   "metadata": {},
   "outputs": [
    {
     "data": {
      "text/plain": [
       "array([ 48.        , 119.33333333, 190.66666667, 262.        ])"
      ]
     },
     "execution_count": 40,
     "metadata": {},
     "output_type": "execute_result"
    }
   ],
   "source": [
    "# convert to int\n",
    "auto_df['horsepower'] = auto_df['horsepower'].astype('int', copy=True)\n",
    "\n",
    "# Create the group names and use linspace for the bins\n",
    "group_names = ['Low', 'Medium', 'High']\n",
    "bins = np.linspace(min(auto_df['horsepower']), max(auto_df['horsepower']), 4)\n",
    "bins"
   ]
  },
  {
   "cell_type": "code",
   "execution_count": 41,
   "id": "dce8f2b5",
   "metadata": {},
   "outputs": [
    {
     "data": {
      "text/html": [
       "<div>\n",
       "<style scoped>\n",
       "    .dataframe tbody tr th:only-of-type {\n",
       "        vertical-align: middle;\n",
       "    }\n",
       "\n",
       "    .dataframe tbody tr th {\n",
       "        vertical-align: top;\n",
       "    }\n",
       "\n",
       "    .dataframe thead th {\n",
       "        text-align: right;\n",
       "    }\n",
       "</style>\n",
       "<table border=\"1\" class=\"dataframe\">\n",
       "  <thead>\n",
       "    <tr style=\"text-align: right;\">\n",
       "      <th></th>\n",
       "      <th>horsepower</th>\n",
       "      <th>horsepower_binned</th>\n",
       "    </tr>\n",
       "  </thead>\n",
       "  <tbody>\n",
       "    <tr>\n",
       "      <th>0</th>\n",
       "      <td>111</td>\n",
       "      <td>Low</td>\n",
       "    </tr>\n",
       "    <tr>\n",
       "      <th>1</th>\n",
       "      <td>111</td>\n",
       "      <td>Low</td>\n",
       "    </tr>\n",
       "  </tbody>\n",
       "</table>\n",
       "</div>"
      ],
      "text/plain": [
       "   horsepower horsepower_binned\n",
       "0         111               Low\n",
       "1         111               Low"
      ]
     },
     "execution_count": 41,
     "metadata": {},
     "output_type": "execute_result"
    }
   ],
   "source": [
    "auto_df['horsepower_binned'] = pd.cut(auto_df['horsepower'], bins, labels=group_names, include_lowest=True)\n",
    "auto_df[['horsepower', 'horsepower_binned']].head(2)"
   ]
  },
  {
   "cell_type": "code",
   "execution_count": 42,
   "id": "e41cf3bd",
   "metadata": {},
   "outputs": [],
   "source": [
    "bin_counts = auto_df['horsepower_binned'].value_counts()\n",
    "bin_counts = bin_counts.sort_index()"
   ]
  },
  {
   "cell_type": "code",
   "execution_count": 43,
   "id": "20ce75a9",
   "metadata": {},
   "outputs": [
    {
     "data": {
      "image/png": "[encoded data removed]",
      "text/plain": [
       "<Figure size 800x600 with 1 Axes>"
      ]
     },
     "metadata": {},
     "output_type": "display_data"
    }
   ],
   "source": [
    "import matplotlib.pyplot as plt\n",
    "\n",
    "plt.figure(figsize=(8, 6))\n",
    "plt.bar(bin_counts.index, bin_counts.values, color=['green', 'orange', 'red'])\n",
    "\n",
    "# Add labels and title\n",
    "plt.title('Distribution of Horsepower Bins')\n",
    "plt.xlabel('Horsepower Bins')\n",
    "plt.ylabel('Count')\n",
    "\n",
    "plt.show()"
   ]
  },
  {
   "cell_type": "markdown",
   "id": "487037dd",
   "metadata": {},
   "source": [
    "### Indicator Variables\n",
    "An indicator variable (or dummy variable) is a numerical variable used to label categories. They are called 'dummies' because the numbers themselves don't have inherent meaning. They are important for regression analysis. The method `get_dummies` is used for this process.\n"
   ]
  },
  {
   "cell_type": "code",
   "execution_count": 44,
   "id": "2d4d75da",
   "metadata": {},
   "outputs": [
    {
     "name": "stdout",
     "output_type": "stream",
     "text": [
      "   diesel   gas\n",
      "0   False  True\n",
      "1   False  True\n"
     ]
    }
   ],
   "source": [
    "dummy_1 = pd.get_dummies(auto_df['fuel-type'])\n",
    "print(dummy_1.head(2))"
   ]
  },
  {
   "cell_type": "code",
   "execution_count": 45,
   "id": "ec6c8715",
   "metadata": {},
   "outputs": [
    {
     "name": "stdout",
     "output_type": "stream",
     "text": [
      "   fuel-type-diesel  fuel-type-gas\n",
      "0             False           True\n",
      "1             False           True\n"
     ]
    }
   ],
   "source": [
    "# Rename the diesel and gas columns\n",
    "dummy_1.rename(columns={'gas': 'fuel-type-gas', 'diesel': 'fuel-type-diesel'}, inplace=True)\n",
    "print(dummy_1.head(2))"
   ]
  },
  {
   "cell_type": "code",
   "execution_count": 46,
   "id": "9493ea15",
   "metadata": {},
   "outputs": [],
   "source": [
    "# Merge the new column and drop the original\n",
    "auto_df = pd.concat([auto_df, dummy_1], axis=1)\n",
    "auto_df.drop('fuel-type', axis=1, inplace=True)"
   ]
  }
 ],
 "metadata": {
  "kernelspec": {
   "display_name": "myvenv",
   "language": "python",
   "name": "python3"
  },
  "language_info": {
   "codemirror_mode": {
    "name": "ipython",
    "version": 3
   },
   "file_extension": ".py",
   "mimetype": "text/x-python",
   "name": "python",
   "nbconvert_exporter": "python",
   "pygments_lexer": "ipython3",
   "version": "3.13.2"
  }
 },
 "nbformat": 4,
 "nbformat_minor": 5
}
