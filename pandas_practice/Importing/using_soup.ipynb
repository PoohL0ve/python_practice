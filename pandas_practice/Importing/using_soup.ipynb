{
 "cells": [
  {
   "cell_type": "markdown",
   "id": "ff832231",
   "metadata": {},
   "source": [
    "# Simple Webscraping with Beautiful Soup\n",
    "To scrape the web with BeautifulSoup two important libraries have to be imported in `requests` and `BeautifulSoup`.\n",
    "\n",
    "Useful Commands:\n",
    "- `Shift + Return`: Runs the current cell and moves to the next one.\n",
    "- `Control + Return`: Runs the current cell and stays in the same cell.\n",
    "- `Option + Return`: Runs the current cell and inserts a new one below.\n",
    "\n"
   ]
  },
  {
   "cell_type": "code",
   "execution_count": 1,
   "id": "e5650a78",
   "metadata": {},
   "outputs": [],
   "source": [
    "from bs4 import BeautifulSoup\n",
    "import requests # Aids in downloading the webpage."
   ]
  },
  {
   "cell_type": "markdown",
   "id": "d831ef7d",
   "metadata": {},
   "source": [
    "## Creating Soup Objects\n",
    "We can create soup objects by parsing HTML to the program. "
   ]
  },
  {
   "cell_type": "code",
   "execution_count": 2,
   "id": "af77cf10",
   "metadata": {},
   "outputs": [
    {
     "data": {
      "text/html": [
       "<!DOCTYPE html>\n",
       "<html>\n",
       "<head>\n",
       "<title>Page Title</title>\n",
       "</head>\n",
       "<body>\n",
       "<h3><b id='boldest'>Lebron James</b></h3>\n",
       "<p> Salary: $ 92,000,000 </p>\n",
       "<h3> Stephen Curry</h3>\n",
       "<p> Salary: $85,000, 000 </p>\n",
       "<h3> Kevin Durant </h3>\n",
       "<p> Salary: $73,200, 000</p>\n",
       "</body>\n",
       "</html>\n"
      ],
      "text/plain": [
       "<IPython.core.display.HTML object>"
      ]
     },
     "metadata": {},
     "output_type": "display_data"
    }
   ],
   "source": [
    "%%html\n",
    "<!DOCTYPE html>\n",
    "<html>\n",
    "<head>\n",
    "<title>Page Title</title>\n",
    "</head>\n",
    "<body>\n",
    "<h3><b id='boldest'>Lebron James</b></h3>\n",
    "<p> Salary: $ 92,000,000 </p>\n",
    "<h3> Stephen Curry</h3>\n",
    "<p> Salary: $85,000, 000 </p>\n",
    "<h3> Kevin Durant </h3>\n",
    "<p> Salary: $73,200, 000</p>\n",
    "</body>\n",
    "</html>"
   ]
  },
  {
   "cell_type": "code",
   "execution_count": 3,
   "id": "2c7b4f93",
   "metadata": {},
   "outputs": [],
   "source": [
    "html=\"<!DOCTYPE html><html><head><title>Page Title</title></head><body><h3><b id='boldest'>Lebron James</b></h3><p> Salary: $ 92,000,000 </p><h3> Stephen Curry</h3><p> Salary: $85,000, 000 </p><h3> Kevin Durant </h3><p> Salary: $73,200, 000</p></body></html>\"\n",
    "soup = BeautifulSoup(html, \"html.parser\")"
   ]
  },
  {
   "cell_type": "markdown",
   "id": "77c12ce5",
   "metadata": {},
   "source": [
    "The `prettify()` method can be used to display HTML in a nested structure. This way can help us understand the relationship between tags, such as parent, sibling, and child."
   ]
  },
  {
   "cell_type": "code",
   "execution_count": 4,
   "id": "a734f96d",
   "metadata": {},
   "outputs": [
    {
     "name": "stdout",
     "output_type": "stream",
     "text": [
      "<bound method Tag.prettify of <!DOCTYPE html>\n",
      "<html><head><title>Page Title</title></head><body><h3><b id=\"boldest\">Lebron James</b></h3><p> Salary: $ 92,000,000 </p><h3> Stephen Curry</h3><p> Salary: $85,000, 000 </p><h3> Kevin Durant </h3><p> Salary: $73,200, 000</p></body></html>>\n"
     ]
    }
   ],
   "source": [
    "print(soup.prettify)"
   ]
  },
  {
   "cell_type": "markdown",
   "id": "72681484",
   "metadata": {},
   "source": [
    "## Accessing Tags\n",
    "If More than one element has the same tage the first one is shown."
   ]
  },
  {
   "cell_type": "code",
   "execution_count": 5,
   "id": "debea833",
   "metadata": {},
   "outputs": [
    {
     "name": "stdout",
     "output_type": "stream",
     "text": [
      "Tag Object: <title>Page Title</title>\n",
      "Tag Object Type: <class 'bs4.element.Tag'>\n"
     ]
    }
   ],
   "source": [
    "tag_object = soup.title # The <title></title> tag\n",
    "print(f'Tag Object: {tag_object}')\n",
    "print(f'Tag Object Type: {type(tag_object)}')"
   ]
  },
  {
   "cell_type": "markdown",
   "id": "f1b305f4",
   "metadata": {},
   "source": [
    "## Acessing Child, Parent, and Sibling\n",
    "To access the child object, use the element that is a step down from the main element accessed in the branch. For the parent and sibling elements use the dot notation with `parent` and `next_sibling`."
   ]
  },
  {
   "cell_type": "code",
   "execution_count": 7,
   "id": "188f8574",
   "metadata": {},
   "outputs": [
    {
     "name": "stdout",
     "output_type": "stream",
     "text": [
      "Child: <b id=\"boldest\">Lebron James</b>\n",
      "Parent: <h3><b id=\"boldest\">Lebron James</b></h3>\n",
      "Sibling: <p> Salary: $ 92,000,000 </p>\n"
     ]
    }
   ],
   "source": [
    "# The first h3 tag would be accessed\n",
    "h3_object = soup.h3\n",
    "\n",
    "# The child can be accessed using the b tag\n",
    "child_object = h3_object.b\n",
    "print(f'Child: {child_object}')\n",
    "\n",
    "# Parent Object\n",
    "parent_object = child_object.parent\n",
    "print(f'Parent: {parent_object}')\n",
    "\n",
    "# Sibling Object\n",
    "sibling_object = parent_object.next_sibling\n",
    "print(f'Sibling: {sibling_object}')"
   ]
  },
  {
   "cell_type": "markdown",
   "id": "9d80d679",
   "metadata": {},
   "source": [
    "## HTML Attributes\n",
    "The attributes and its content can be accessed by treating them like dictionaries. The `get()` can be used to get the content of the attribute, as well as using bracket notation. The full key-value pair can by obtained by using the `attrs` dot notation."
   ]
  },
  {
   "cell_type": "code",
   "execution_count": 8,
   "id": "e3781296",
   "metadata": {},
   "outputs": [
    {
     "name": "stdout",
     "output_type": "stream",
     "text": [
      "Using Bracket: boldest\n",
      "Using the get() method: boldest\n",
      "Full Dictionary: {'id': 'boldest'}\n"
     ]
    }
   ],
   "source": [
    "# Get the id value of the child \n",
    "bracket_way = child_object['id']\n",
    "method_way = child_object.get('id')\n",
    "print(f'Using Bracket: {bracket_way}')\n",
    "print(f'Using the get() method: {method_way}')\n",
    "\n",
    "# Get the full dictionary\n",
    "full_dict = child_object.attrs\n",
    "print(f'Full Dictionary: {full_dict}')"
   ]
  },
  {
   "cell_type": "markdown",
   "id": "a3158d2b",
   "metadata": {},
   "source": [
    "## Obtain the Text/String\n",
    "The `string` is used with dot notation to obtain the text or content of an HTML tag. BeautifulSoup uses the **NavigableString** class to obtain the text. The object can also be converted to a python string by using `str()`."
   ]
  },
  {
   "cell_type": "code",
   "execution_count": 9,
   "id": "09e86adc",
   "metadata": {},
   "outputs": [
    {
     "name": "stdout",
     "output_type": "stream",
     "text": [
      " Salary: $ 92,000,000 \n"
     ]
    }
   ],
   "source": [
    "text = sibling_object.string\n",
    "print(text)"
   ]
  },
  {
   "cell_type": "markdown",
   "id": "efd12249",
   "metadata": {},
   "source": [
    "## Filtering\n",
    "Filtering allows us to find certain patterns and objects."
   ]
  },
  {
   "cell_type": "code",
   "execution_count": 10,
   "id": "8c0e000e",
   "metadata": {},
   "outputs": [
    {
     "data": {
      "text/html": [
       "<table>\n",
       "  <tr>\n",
       "    <td id='flight' >Flight No</td>\n",
       "    <td>Launch site</td> \n",
       "    <td>Payload mass</td>\n",
       "   </tr>\n",
       "  <tr> \n",
       "    <td>1</td>\n",
       "    <td><a href='https://en.wikipedia.org/wiki/Florida'>Florida</a></td>\n",
       "    <td>300 kg</td>\n",
       "  </tr>\n",
       "  <tr>\n",
       "    <td>2</td>\n",
       "    <td><a href='https://en.wikipedia.org/wiki/Texas'>Texas</a></td>\n",
       "    <td>94 kg</td>\n",
       "  </tr>\n",
       "  <tr>\n",
       "    <td>3</td>\n",
       "    <td><a href='https://en.wikipedia.org/wiki/Florida'>Florida</a> </td>\n",
       "    <td>80 kg</td>\n",
       "  </tr>\n",
       "</table>\n"
      ],
      "text/plain": [
       "<IPython.core.display.HTML object>"
      ]
     },
     "metadata": {},
     "output_type": "display_data"
    }
   ],
   "source": [
    "%%html\n",
    "<table>\n",
    "  <tr>\n",
    "    <td id='flight' >Flight No</td>\n",
    "    <td>Launch site</td> \n",
    "    <td>Payload mass</td>\n",
    "   </tr>\n",
    "  <tr> \n",
    "    <td>1</td>\n",
    "    <td><a href='https://en.wikipedia.org/wiki/Florida'>Florida</a></td>\n",
    "    <td>300 kg</td>\n",
    "  </tr>\n",
    "  <tr>\n",
    "    <td>2</td>\n",
    "    <td><a href='https://en.wikipedia.org/wiki/Texas'>Texas</a></td>\n",
    "    <td>94 kg</td>\n",
    "  </tr>\n",
    "  <tr>\n",
    "    <td>3</td>\n",
    "    <td><a href='https://en.wikipedia.org/wiki/Florida'>Florida</a> </td>\n",
    "    <td>80 kg</td>\n",
    "  </tr>\n",
    "</table>"
   ]
  },
  {
   "cell_type": "code",
   "execution_count": 13,
   "id": "c854af89",
   "metadata": {},
   "outputs": [],
   "source": [
    "table=\"<table><tr><td id='flight' >Flight No</td><td>Launch site</td><td>Payload mass</td></tr><tr><td>1</td><td><a href='https://en.wikipedia.org/wiki/Florida'>Florida</a></td><td>300 kg</td></tr><tr><td>2</td><td><a href='https://en.wikipedia.org/wiki/Texas'>Texas</a></td><td>94 kg</td></tr><tr><td>3</td><td><a href='https://en.wikipedia.org/wiki/Florida'>Florida</a> </td><td>80 kg</td></tr></table>\"\n",
    "table_soup = BeautifulSoup(table, \"html.parser\")"
   ]
  },
  {
   "cell_type": "markdown",
   "id": "54d0d96a",
   "metadata": {},
   "source": [
    "The `find_all(name, attrs, recursive, string, limit, **kwargs)` method looks for all the descedants. The name parameter will acess all the tags with the name and its children and produce an `iterable` object."
   ]
  },
  {
   "cell_type": "code",
   "execution_count": 16,
   "id": "ec23761d",
   "metadata": {},
   "outputs": [
    {
     "name": "stdout",
     "output_type": "stream",
     "text": [
      "[<tr><td id=\"flight\">Flight No</td><td>Launch site</td><td>Payload mass</td></tr>, <tr><td>1</td><td><a href=\"https://en.wikipedia.org/wiki/Florida\">Florida</a></td><td>300 kg</td></tr>, <tr><td>2</td><td><a href=\"https://en.wikipedia.org/wiki/Texas\">Texas</a></td><td>94 kg</td></tr>, <tr><td>3</td><td><a href=\"https://en.wikipedia.org/wiki/Florida\">Florida</a> </td><td>80 kg</td></tr>]\n",
      "<tr><td id=\"flight\">Flight No</td><td>Launch site</td><td>Payload mass</td></tr>\n",
      "<td id=\"flight\">Flight No</td>\n"
     ]
    }
   ],
   "source": [
    "table_rows = table_soup.find_all('tr') \n",
    "print(table_rows)\n",
    "\n",
    "first_row = table_rows[0]\n",
    "print(first_row)\n",
    "\n",
    "cell_object = first_row.td\n",
    "print(cell_object)\n",
    "\n"
   ]
  },
  {
   "cell_type": "markdown",
   "id": "39f65d08",
   "metadata": {},
   "source": [
    "We can also iterate the object and print out each row."
   ]
  },
  {
   "cell_type": "code",
   "execution_count": null,
   "id": "1fc7feec",
   "metadata": {},
   "outputs": [],
   "source": [
    "for i,row in enumerate(table_rows):\n",
    "    print(\"row\",i,\"is\",row)"
   ]
  },
  {
   "cell_type": "code",
   "execution_count": 17,
   "id": "8df3c5ea",
   "metadata": {},
   "outputs": [
    {
     "name": "stdout",
     "output_type": "stream",
     "text": [
      "row 0\n",
      "colunm 0 cell <td id=\"flight\">Flight No</td>\n",
      "colunm 1 cell <td>Launch site</td>\n",
      "colunm 2 cell <td>Payload mass</td>\n",
      "row 1\n",
      "colunm 0 cell <td>1</td>\n",
      "colunm 1 cell <td><a href=\"https://en.wikipedia.org/wiki/Florida\">Florida</a></td>\n",
      "colunm 2 cell <td>300 kg</td>\n",
      "row 2\n",
      "colunm 0 cell <td>2</td>\n",
      "colunm 1 cell <td><a href=\"https://en.wikipedia.org/wiki/Texas\">Texas</a></td>\n",
      "colunm 2 cell <td>94 kg</td>\n",
      "row 3\n",
      "colunm 0 cell <td>3</td>\n",
      "colunm 1 cell <td><a href=\"https://en.wikipedia.org/wiki/Florida\">Florida</a> </td>\n",
      "colunm 2 cell <td>80 kg</td>\n"
     ]
    }
   ],
   "source": [
    "for i,row in enumerate(table_rows):\n",
    "    print(\"row\",i)\n",
    "    cells=row.find_all('td')\n",
    "    for j,cell in enumerate(cells):\n",
    "        print('colunm',j,\"cell\",cell)"
   ]
  },
  {
   "cell_type": "code",
   "execution_count": 18,
   "id": "d2684f68",
   "metadata": {},
   "outputs": [
    {
     "name": "stdout",
     "output_type": "stream",
     "text": [
      "[<tr><td id=\"flight\">Flight No</td><td>Launch site</td><td>Payload mass</td></tr>, <td id=\"flight\">Flight No</td>, <td>Launch site</td>, <td>Payload mass</td>, <tr><td>1</td><td><a href=\"https://en.wikipedia.org/wiki/Florida\">Florida</a></td><td>300 kg</td></tr>, <td>1</td>, <td><a href=\"https://en.wikipedia.org/wiki/Florida\">Florida</a></td>, <td>300 kg</td>, <tr><td>2</td><td><a href=\"https://en.wikipedia.org/wiki/Texas\">Texas</a></td><td>94 kg</td></tr>, <td>2</td>, <td><a href=\"https://en.wikipedia.org/wiki/Texas\">Texas</a></td>, <td>94 kg</td>, <tr><td>3</td><td><a href=\"https://en.wikipedia.org/wiki/Florida\">Florida</a> </td><td>80 kg</td></tr>, <td>3</td>, <td><a href=\"https://en.wikipedia.org/wiki/Florida\">Florida</a> </td>, <td>80 kg</td>]\n"
     ]
    }
   ],
   "source": [
    "# Using a list to parse certain arguments to the find_all method\n",
    "list_input = table_soup.find_all(name=['tr', 'td'])\n",
    "print(list_input)"
   ]
  },
  {
   "cell_type": "markdown",
   "id": "20915c67",
   "metadata": {},
   "source": [
    "If the value of the attribute is known, it can be parsed directly to the find_all() method. Additionally, all values can be found with an attribute if the `True` boolean is used and the opposite if the `False` boolean is used. Strings can also be found in stead of tags."
   ]
  },
  {
   "cell_type": "code",
   "execution_count": 20,
   "id": "bd119d82",
   "metadata": {},
   "outputs": [
    {
     "name": "stdout",
     "output_type": "stream",
     "text": [
      "[<td id=\"flight\">Flight No</td>]\n",
      "['Florida', 'Florida']\n"
     ]
    }
   ],
   "source": [
    "print(table_soup.find_all(id=\"flight\"))\n",
    "\n",
    "# Find the string Florida\n",
    "print(table_soup.find_all(string='Florida'))"
   ]
  },
  {
   "cell_type": "markdown",
   "id": "6b3c1cce",
   "metadata": {},
   "source": [
    "The `find` method is best used for accessing the first type of an element or attribute parsed."
   ]
  },
  {
   "cell_type": "code",
   "execution_count": 21,
   "id": "f2faa740",
   "metadata": {},
   "outputs": [
    {
     "data": {
      "text/html": [
       "<h3>Rocket Launch </h3>\n",
       "\n",
       "<p>\n",
       "<table class='rocket'>\n",
       "  <tr>\n",
       "    <td>Flight No</td>\n",
       "    <td>Launch site</td> \n",
       "    <td>Payload mass</td>\n",
       "  </tr>\n",
       "  <tr>\n",
       "    <td>1</td>\n",
       "    <td>Florida</td>\n",
       "    <td>300 kg</td>\n",
       "  </tr>\n",
       "  <tr>\n",
       "    <td>2</td>\n",
       "    <td>Texas</td>\n",
       "    <td>94 kg</td>\n",
       "  </tr>\n",
       "  <tr>\n",
       "    <td>3</td>\n",
       "    <td>Florida </td>\n",
       "    <td>80 kg</td>\n",
       "  </tr>\n",
       "</table>\n",
       "</p>\n",
       "<p>\n",
       "\n",
       "<h3>Pizza Party  </h3>\n",
       "  \n",
       "    \n",
       "<table class='pizza'>\n",
       "  <tr>\n",
       "    <td>Pizza Place</td>\n",
       "    <td>Orders</td> \n",
       "    <td>Slices </td>\n",
       "   </tr>\n",
       "  <tr>\n",
       "    <td>Domino's Pizza</td>\n",
       "    <td>10</td>\n",
       "    <td>100</td>\n",
       "  </tr>\n",
       "  <tr>\n",
       "    <td>Little Caesars</td>\n",
       "    <td>12</td>\n",
       "    <td >144 </td>\n",
       "  </tr>\n",
       "  <tr>\n",
       "    <td>Papa John's </td>\n",
       "    <td>15 </td>\n",
       "    <td>165</td>\n",
       "  </tr>\n"
      ],
      "text/plain": [
       "<IPython.core.display.HTML object>"
      ]
     },
     "metadata": {},
     "output_type": "display_data"
    }
   ],
   "source": [
    "%%html\n",
    "<h3>Rocket Launch </h3>\n",
    "\n",
    "<p>\n",
    "<table class='rocket'>\n",
    "  <tr>\n",
    "    <td>Flight No</td>\n",
    "    <td>Launch site</td> \n",
    "    <td>Payload mass</td>\n",
    "  </tr>\n",
    "  <tr>\n",
    "    <td>1</td>\n",
    "    <td>Florida</td>\n",
    "    <td>300 kg</td>\n",
    "  </tr>\n",
    "  <tr>\n",
    "    <td>2</td>\n",
    "    <td>Texas</td>\n",
    "    <td>94 kg</td>\n",
    "  </tr>\n",
    "  <tr>\n",
    "    <td>3</td>\n",
    "    <td>Florida </td>\n",
    "    <td>80 kg</td>\n",
    "  </tr>\n",
    "</table>\n",
    "</p>\n",
    "<p>\n",
    "\n",
    "<h3>Pizza Party  </h3>\n",
    "  \n",
    "    \n",
    "<table class='pizza'>\n",
    "  <tr>\n",
    "    <td>Pizza Place</td>\n",
    "    <td>Orders</td> \n",
    "    <td>Slices </td>\n",
    "   </tr>\n",
    "  <tr>\n",
    "    <td>Domino's Pizza</td>\n",
    "    <td>10</td>\n",
    "    <td>100</td>\n",
    "  </tr>\n",
    "  <tr>\n",
    "    <td>Little Caesars</td>\n",
    "    <td>12</td>\n",
    "    <td >144 </td>\n",
    "  </tr>\n",
    "  <tr>\n",
    "    <td>Papa John's </td>\n",
    "    <td>15 </td>\n",
    "    <td>165</td>\n",
    "  </tr>\n"
   ]
  },
  {
   "cell_type": "code",
   "execution_count": 24,
   "id": "86e90f9b",
   "metadata": {},
   "outputs": [
    {
     "name": "stdout",
     "output_type": "stream",
     "text": [
      "<table class=\"pizza\"><tr><td>Pizza Place</td><td>Orders</td> <td>Slices </td></tr><tr><td>Domino's Pizza</td><td>10</td><td>100</td></tr><tr><td>Little Caesars</td><td>12</td><td>144 </td></tr><tr><td>Papa John's </td><td>15 </td><td>165</td></tr></table>\n"
     ]
    }
   ],
   "source": [
    "two_tables=\"<h3>Rocket Launch </h3><p><table class='rocket'><tr><td>Flight No</td><td>Launch site</td> <td>Payload mass</td></tr><tr><td>1</td><td>Florida</td><td>300 kg</td></tr><tr><td>2</td><td>Texas</td><td>94 kg</td></tr><tr><td>3</td><td>Florida </td><td>80 kg</td></tr></table></p><p><h3>Pizza Party  </h3><table class='pizza'><tr><td>Pizza Place</td><td>Orders</td> <td>Slices </td></tr><tr><td>Domino's Pizza</td><td>10</td><td>100</td></tr><tr><td>Little Caesars</td><td>12</td><td >144 </td></tr><tr><td>Papa John's </td><td>15 </td><td>165</td></tr>\"\n",
    "two_tables_bs = BeautifulSoup(two_tables, 'html.parser') \n",
    "pizza_class = two_tables_bs.find('table', class_='pizza')\n",
    "print(pizza_class)\n"
   ]
  },
  {
   "cell_type": "markdown",
   "id": "55f03e2f",
   "metadata": {},
   "source": [
    "## Scraping a Web Page\n",
    "This process requires the use of the `requests` framework along with BeautifulSoup"
   ]
  },
  {
   "cell_type": "code",
   "execution_count": 25,
   "id": "9ee57010",
   "metadata": {},
   "outputs": [],
   "source": [
    "url = \"https://web.archive.org/web/20230224123642/https://www.ibm.com/us-en/\"\n",
    "data  = requests.get(url).text \n",
    "soup = BeautifulSoup(data,\"html.parser\")"
   ]
  },
  {
   "cell_type": "code",
   "execution_count": 26,
   "id": "8b45c723",
   "metadata": {},
   "outputs": [
    {
     "name": "stdout",
     "output_type": "stream",
     "text": [
      "https://web.archive.org/web/20230224123642/https://www.ibm.com/reports/threat-intelligence/\n",
      "https://web.archive.org/web/20230224123642/https://www.ibm.com/about\n",
      "https://web.archive.org/web/20230224123642/https://www.ibm.com/consulting/?lnk=flathl\n",
      "https://web.archive.org/web/20230224123642/https://www.ibm.com/consulting/strategy/?lnk=flathl\n",
      "https://web.archive.org/web/20230224123642/https://www.ibm.com/consulting/ibmix?lnk=flathl\n",
      "https://web.archive.org/web/20230224123642/https://www.ibm.com/consulting/technology/\n",
      "https://web.archive.org/web/20230224123642/https://www.ibm.com/consulting/operations/?lnk=flathl\n",
      "https://web.archive.org/web/20230224123642/https://www.ibm.com/strategic-partnerships\n",
      "https://web.archive.org/web/20230224123642/https://www.ibm.com/employment/?lnk=flatitem\n",
      "https://web.archive.org/web/20230224123642/https://www.ibm.com/impact\n",
      "https://web.archive.org/web/20230224123642/https://research.ibm.com/\n",
      "https://web.archive.org/web/20230224123642/https://www.ibm.com/\n"
     ]
    }
   ],
   "source": [
    "# Scrape all links\n",
    "for link in soup.find_all('a',href=True):  # in html anchor/link is represented by the tag <a>\n",
    "    print(link.get('href'))"
   ]
  },
  {
   "cell_type": "markdown",
   "id": "84e9b99f",
   "metadata": {},
   "source": [
    "The `read_html()` method in Python allows us to turn the BeautifulSoup contents into a DataFrame"
   ]
  }
 ],
 "metadata": {
  "kernelspec": {
   "display_name": "myvenv",
   "language": "python",
   "name": "python3"
  },
  "language_info": {
   "codemirror_mode": {
    "name": "ipython",
    "version": 3
   },
   "file_extension": ".py",
   "mimetype": "text/x-python",
   "name": "python",
   "nbconvert_exporter": "python",
   "pygments_lexer": "ipython3",
   "version": "3.13.2"
  }
 },
 "nbformat": 4,
 "nbformat_minor": 5
}
