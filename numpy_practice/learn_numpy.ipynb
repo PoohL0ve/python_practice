{
 "cells": [
  {
   "cell_type": "code",
   "execution_count": 1,
   "metadata": {},
   "outputs": [],
   "source": [
    "import numpy as np "
   ]
  },
  {
   "cell_type": "markdown",
   "metadata": {},
   "source": [
    "## Creating arrays\n",
    "Arrays can be created in a number of ways and using different methods."
   ]
  },
  {
   "cell_type": "code",
   "execution_count": 3,
   "metadata": {},
   "outputs": [
    {
     "name": "stdout",
     "output_type": "stream",
     "text": [
      "One Dimensional Array: [1 2 3 4]\n",
      "Two Dimensional Array:\n",
      "[[3 4]\n",
      " [5 6]]\n"
     ]
    }
   ],
   "source": [
    "# Create a simple 1 dimensional array\n",
    "one_dim = [1, 2, 3, 4]\n",
    "print(f'One Dimensional Array: {np.array(one_dim)}')\n",
    "\n",
    "# Create a 2 dimensional array\n",
    "two_dim = np.array([[3, 4], [5, 6]])\n",
    "print(f'Two Dimensional Array:\\n{two_dim}')"
   ]
  },
  {
   "cell_type": "markdown",
   "metadata": {},
   "source": [
    "The methods zeros() and ones() fills the array with zeros and ones respectively. The default data type is a float; however it can be change to an integer by using the *dtype=* attribute."
   ]
  },
  {
   "cell_type": "code",
   "execution_count": 5,
   "metadata": {},
   "outputs": [
    {
     "data": {
      "text/plain": [
       "array([[0, 0, 0],\n",
       "       [0, 0, 0]])"
      ]
     },
     "execution_count": 5,
     "metadata": {},
     "output_type": "execute_result"
    }
   ],
   "source": [
    "zero_int = np.zeros((2, 3), dtype=int)\n",
    "zero_int"
   ]
  },
  {
   "cell_type": "markdown",
   "metadata": {},
   "source": [
    "The method full() uses a *fill_value* attribute to fill the array with the given value."
   ]
  },
  {
   "cell_type": "code",
   "execution_count": 6,
   "metadata": {},
   "outputs": [
    {
     "data": {
      "text/plain": [
       "array([[6, 6, 6],\n",
       "       [6, 6, 6]])"
      ]
     },
     "execution_count": 6,
     "metadata": {},
     "output_type": "execute_result"
    }
   ],
   "source": [
    "fill_with_sixes = np.full((2, 3), fill_value=6)\n",
    "fill_with_sixes"
   ]
  },
  {
   "cell_type": "markdown",
   "metadata": {},
   "source": [
    "The eye method creates the identity matrix, that is, a matrix with elements on the diagonal are set to one, and non-diagonal elements are set to zero."
   ]
  },
  {
   "cell_type": "code",
   "execution_count": 7,
   "metadata": {},
   "outputs": [
    {
     "data": {
      "text/plain": [
       "array([[1, 0, 0, 0, 0, 0, 0],\n",
       "       [0, 1, 0, 0, 0, 0, 0],\n",
       "       [0, 0, 1, 0, 0, 0, 0],\n",
       "       [0, 0, 0, 1, 0, 0, 0],\n",
       "       [0, 0, 0, 0, 1, 0, 0],\n",
       "       [0, 0, 0, 0, 0, 1, 0],\n",
       "       [0, 0, 0, 0, 0, 0, 1]])"
      ]
     },
     "execution_count": 7,
     "metadata": {},
     "output_type": "execute_result"
    }
   ],
   "source": [
    "identity_matrix = np.eye(7, dtype=int)\n",
    "identity_matrix"
   ]
  },
  {
   "cell_type": "markdown",
   "metadata": {},
   "source": [
    "The arange() method creates an array based on the soecified values for integers, while linspace does the same for none integer values."
   ]
  },
  {
   "cell_type": "code",
   "execution_count": 9,
   "metadata": {},
   "outputs": [
    {
     "name": "stdout",
     "output_type": "stream",
     "text": [
      "Using Arange:\n",
      "[ 0  2  4  6  8 10]\n",
      "\n",
      "Using Linspace:\n",
      "[0.         1.04719755 2.0943951  3.14159265]\n"
     ]
    }
   ],
   "source": [
    "create_range = np.arange(0, 12, 2)  # starts at 0 and skips 2\n",
    "print(f'Using Arange:\\n{create_range}\\n')\n",
    "\n",
    "non_ints = np.linspace(0, np.pi, 4) # evenly spaced with 4 elements\n",
    "print(f'Using Linspace:\\n{non_ints}')"
   ]
  }
 ],
 "metadata": {
  "kernelspec": {
   "display_name": "myvenv",
   "language": "python",
   "name": "python3"
  },
  "language_info": {
   "codemirror_mode": {
    "name": "ipython",
    "version": 3
   },
   "file_extension": ".py",
   "mimetype": "text/x-python",
   "name": "python",
   "nbconvert_exporter": "python",
   "pygments_lexer": "ipython3",
   "version": "3.13.1"
  }
 },
 "nbformat": 4,
 "nbformat_minor": 2
}
